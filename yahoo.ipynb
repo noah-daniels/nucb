{
 "cells": [
  {
   "cell_type": "code",
   "execution_count": 1,
   "id": "8c5f3f0d-0c41-4160-b9dc-181962d55ed5",
   "metadata": {},
   "outputs": [],
   "source": [
    "%load_ext autoreload\n",
    "%autoreload 2"
   ]
  },
  {
   "cell_type": "code",
   "execution_count": 4,
   "id": "07af31df-d732-4ad3-a13a-bebe94b35865",
   "metadata": {},
   "outputs": [],
   "source": [
    "from banditrec.datasets import parse_yahoo2\n",
    "from banditrec.simulate import simulate_replay\n",
    "from banditrec.agents import RandomAgent, HindsightAgent, UCBAgent, CLUBAgent, NUCBAgent, SCLUBAgent, DynUCBAgent\n",
    "from banditrec.experiments import ExperimentVisualizer"
   ]
  },
  {
   "cell_type": "markdown",
   "id": "7e4d38cd-c6e4-4484-b619-cf75152d2709",
   "metadata": {},
   "source": [
    "## Load dataset"
   ]
  },
  {
   "cell_type": "code",
   "execution_count": null,
   "id": "cb265203-c49b-434f-9600-c73dfd849f61",
   "metadata": {},
   "outputs": [],
   "source": [
    "DATA_BASE_PATH = \"./data/yahoo2\"\n",
    "\n",
    "# load raw\n",
    "DATA_PATHS = [f'{DATA_BASE_PATH}/ydata-fp-td-clicks-v2_0.201110{i:0>2}' for i in range(2, 16+1)]\n",
    "e, u, p = parse_yahoo2(DATA_PATHS)\n",
    "\n",
    "# save processed\n",
    "e.to_parquet(\"./data/yahoo2/all.parquet\")\n",
    "np.savez_compressed('./data/yahoo2/metadata.npz', user_features=u, pool_masks=p)\n",
    "\n",
    "# load processed\n",
    "e = pd.read_parquet(\"./data/yahoo2/all.parquet\")\n",
    "data = np.load(\"./data/yahoo2/metadata.npz\")\n",
    "u = data[\"user_features\"]\n",
    "p = data[\"pool_masks\"].astype(bool)"
   ]
  },
  {
   "cell_type": "code",
   "execution_count": null,
   "id": "c09c96f3-b81e-449e-86ba-195076babaf2",
   "metadata": {},
   "outputs": [],
   "source": [
    "# get 18k version of dataset\n",
    "t = 1607525 + 2220905 + 2189981 + 1373877 + 1921382 + 2040503 + 1571772 # first week\n",
    "e_eval = e.iloc[:t].copy()\n",
    "e_eval = e_eval[e_eval.user != 4] # null user\n",
    "users = e_eval.user.value_counts()\n",
    "users_18k = users[users>=50]\n",
    "e18k = e_eval[e_eval.user.isin(users_18k.index)].copy()\n",
    "e18k[\"user\"] = e18k[\"user\"].factorize()[0]\n",
    "e18k[\"item\"] = e18k[\"item\"].factorize()[0]\n",
    "\n",
    "ranked_items = e18k[e18k.clicked].item.value_counts().index.values"
   ]
  },
  {
   "cell_type": "markdown",
   "id": "e2a3777e-01ff-465f-9c16-c599ea02fe5a",
   "metadata": {},
   "source": [
    "## Run experiment"
   ]
  },
  {
   "cell_type": "code",
   "execution_count": null,
   "id": "aaea4975-3338-41ef-ad35-96024a1b5fd7",
   "metadata": {},
   "outputs": [],
   "source": [
    "results = []\n",
    "for agent in [\n",
    "    RandomAgent(),\n",
    "    HindsightAgent(ranked_items),\n",
    "    UCBAgent(0.12),\n",
    "    CLUBAgent(0.08, 2),\n",
    "    DynUCBAgent(0.1, 1),\n",
    "    SCLUBAgent(0.09, 2, 2),\n",
    "    NUCBAgent(0.03, 100, 0)\n",
    "]:\n",
    "    res = simulate_replay(agent, e18k, p)\n",
    "    results.append(res)"
   ]
  },
  {
   "cell_type": "code",
   "execution_count": null,
   "id": "81f6c116-d0e4-41ce-a92c-56aa5a1f26a4",
   "metadata": {},
   "outputs": [],
   "source": [
    "# save results\n",
    "time_horizon = 71000\n",
    "output_path = \"results/raw\"\n",
    "\n",
    "def bucketize(array, bucket_count=500):\n",
    "    bucket_size = len(array)  // bucket_count\n",
    "    return array[:bucket_count * bucket_size].reshape(bucket_count, -1).sum(axis=1)\n",
    "\n",
    "def save_result(result, name):\n",
    "    rew = result.rewards[:time_horizon]\n",
    "    b = bucketize(rew)\n",
    "    np.save(f\"{output_path}/{name}.npy\", b)\n",
    "\n",
    "save_result(results[0], \"Random\")\n",
    "save_result(results[1], \"Hindsight\")\n",
    "save_result(results[2], \"UCB\")\n",
    "save_result(results[3], \"CLUB\")\n",
    "save_result(results[4], \"DynUCB\")\n",
    "save_result(results[5], \"SCLUB\")\n",
    "save_result(results[6], \"NUCBAgent\")"
   ]
  },
  {
   "cell_type": "markdown",
   "id": "a40fca03-2bdb-4bb9-b3a5-25e67dfac0b8",
   "metadata": {},
   "source": [
    "## Create plots"
   ]
  },
  {
   "cell_type": "code",
   "execution_count": null,
   "id": "cb7c8256-c0a5-47ae-97b3-f8c288c23fdf",
   "metadata": {},
   "outputs": [],
   "source": [
    "md = 12\n",
    "vis = ExperimentVisualizer(\"results/raw\", \"results/plots\")\n",
    "vis.new_plot(None, time_horizon)\n",
    "vis.add_result(\"Random\",    {\"color\": \"tab:blue\"})\n",
    "vis.add_result(\"UCB\",     {\"color\": \"tab:green\",  \"marker\": \"v\", \"markevery\": (0*md, 5*md)})\n",
    "vis.add_result(\"CLUB\",    {\"color\": \"tab:red\",    \"marker\": \"^\", \"markevery\": (1*md, 5*md)})\n",
    "vis.add_result(\"DynUCB\",  {\"color\": \"tab:brown\",  \"marker\": \"<\", \"markevery\": (2*md, 5*md)})\n",
    "vis.add_result(\"SCLUB\",   {\"color\": \"tab:gray\",   \"marker\": \">\", \"markevery\": (3*md, 5*md)})\n",
    "vis.add_result(\"NUCB\",    {\"color\": \"tab:purple\", \"marker\": \"o\", \"markevery\": (4*md, 5*md)})\n",
    "vis.create_plot(\"ctrs\")"
   ]
  }
 ],
 "metadata": {
  "kernelspec": {
   "display_name": "Python 3 (ipykernel)",
   "language": "python",
   "name": "python3"
  },
  "language_info": {
   "codemirror_mode": {
    "name": "ipython",
    "version": 3
   },
   "file_extension": ".py",
   "mimetype": "text/x-python",
   "name": "python",
   "nbconvert_exporter": "python",
   "pygments_lexer": "ipython3",
   "version": "3.12.2"
  }
 },
 "nbformat": 4,
 "nbformat_minor": 5
}
